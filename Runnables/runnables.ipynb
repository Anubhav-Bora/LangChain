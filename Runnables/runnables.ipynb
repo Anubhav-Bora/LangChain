{
 "cells": [
  {
   "cell_type": "markdown",
   "id": "ea4f4423",
   "metadata": {},
   "source": [
    "https://colab.research.google.com/drive/1P11hpAPtjr0oIiqQ5pNsdnMxmascdbBY?usp=sharing#scrollTo=X17XNOaKGr45 (drive link)"
   ]
  }
 ],
 "metadata": {
  "language_info": {
   "name": "python"
  }
 },
 "nbformat": 4,
 "nbformat_minor": 5
}
